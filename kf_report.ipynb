{
 "cells": [
  {
   "cell_type": "markdown",
   "metadata": {},
   "source": [
    "# Key Factor Ranking\n",
    "Copyright © 2020 AA"
   ]
  },
  {
   "cell_type": "code",
   "execution_count": 1,
   "metadata": {},
   "outputs": [],
   "source": [
    "%load_ext autoreload\n",
    "%autoreload 2\n",
    "\n",
    "import os, warnings\n",
    "warnings.filterwarnings('ignore')\n",
    "warnings.simplefilter(action='ignore', category=FutureWarning)\n",
    "import numpy as np\n",
    "import pandas as pd\n",
    "import matplotlib.pyplot as plt\n",
    "from keyfactordiag.diag import Diag\n",
    "import ipywidgets as widgets\n",
    "from IPython.display import display\n",
    "\n",
    "pd.set_option('display.max_rows', 10000)\n",
    "pd.set_option('display.max_columns', 10000)\n",
    "pd.set_option(\"display.max_colwidth\", 100)\n"
   ]
  },
  {
   "cell_type": "markdown",
   "metadata": {},
   "source": [
    "### INIT"
   ]
  },
  {
   "cell_type": "code",
   "execution_count": 2,
   "metadata": {},
   "outputs": [
    {
     "name": "stdout",
     "output_type": "stream",
     "text": [
      "keyparts: ['HDD' 'MB']\n"
     ]
    }
   ],
   "source": [
    "#init\n",
    "diag = Diag(errorcode='4I31', modelname='DGE00')\n",
    "#load Data\n",
    "diag.load_mesdata()\n"
   ]
  },
  {
   "cell_type": "markdown",
   "metadata": {},
   "source": [
    "### Preprocess"
   ]
  },
  {
   "cell_type": "code",
   "execution_count": 3,
   "metadata": {},
   "outputs": [
    {
     "name": "stdout",
     "output_type": "stream",
     "text": [
      "(284, 188)\n",
      "12 features with greater than 0.30 missing values.\n",
      "\n",
      "79 features with a single unique value.\n",
      "\n",
      "Removed 84 features.\n",
      "There are 50 original features\n",
      "There are 227 one-hot features\n"
     ]
    }
   ],
   "source": [
    "#組大表\n",
    "diag.getbigtable()\n",
    "#將大表轉換為計算entropy要用到的資料\n",
    "diag.get_analysis_table()\n",
    "#output excel\n",
    "#diag.output_bigtable()\n",
    "#diag.output_entropy_table()"
   ]
  },
  {
   "cell_type": "markdown",
   "metadata": {},
   "source": [
    "**計算集中性**"
   ]
  },
  {
   "cell_type": "code",
   "execution_count": 4,
   "metadata": {},
   "outputs": [
    {
     "name": "stdout",
     "output_type": "stream",
     "text": [
      "root entropy: 0.9756797868933086\n"
     ]
    }
   ],
   "source": [
    "entropy_tb_lv1 = diag.entorpy_analysis(filter_factor='All')\n",
    "entropy_tb_lv2 = None"
   ]
  },
  {
   "cell_type": "markdown",
   "metadata": {},
   "source": [
    "**UI DEMO**"
   ]
  },
  {
   "cell_type": "code",
   "execution_count": 5,
   "metadata": {},
   "outputs": [],
   "source": [
    "\n",
    "def dropdown_factor_eventhandler(change):\n",
    "    global entropy_tb_lv2\n",
    "    option= change.new.split('__')[1]\n",
    "    entropy_tb_lv2 = diag.entorpy_analysis(filter_factor=option)\n",
    "    common_data_filter(change.new, floatSilder_faterate.value, factortype_selects.value)\n",
    "        \n",
    "def select_factortype_eventhandler(change):\n",
    "    common_data_filter(checkbox_keyfactor.value, floatSilder_faterate.value, change.new)\n",
    "    \n",
    "def checkbox_keyfactor_eventhandler(change):\n",
    "    common_data_filter(change.new, floatSilder_faterate.value, factortype_selects.value)\n",
    "        \n",
    "def floatSilder_faterate_eventhandler(change):\n",
    "    common_data_filter(checkbox_keyfactor.value, change.new, factortype_selects.value)\n",
    "        \n",
    "def common_data_filter(key_factor, failrate, factor_types):\n",
    "    factor_types = list(factortype_selects.value)\n",
    "    #--- TAB 1 ---\n",
    "    output_factor_lv1.clear_output()\n",
    "    entropy_tb_lv1_filter = entropy_tb_lv1\n",
    "    entropy_tb_lv2_filter = entropy_tb_lv2\n",
    "    if key_factor:\n",
    "        entropy_tb_lv1_filter = entropy_tb_lv1_filter[entropy_tb_lv1_filter['key_factor']=='1']\n",
    "    entropy_tb_lv1_filter = entropy_tb_lv1_filter[entropy_tb_lv1_filter['Failrate']>=failrate]\n",
    "    #if len(factor_types)>0:\n",
    "    if factor_types !=['All']:\n",
    "        entropy_tb_lv1_filter = entropy_tb_lv1_filter[entropy_tb_lv1_filter['Factor B'].isin(factor_types)]\n",
    "        \n",
    "    with output_factor_lv1:\n",
    "        print(f'Case 0: ATE R5209壓件')\n",
    "        display(entropy_tb_lv1_filter)     \n",
    "        \n",
    "    #--- TAB 2 ---\n",
    "    output_factor_lv2.clear_output()        \n",
    "    \n",
    "    if entropy_tb_lv2_filter is None:\n",
    "        return\n",
    "    if key_factor:\n",
    "        entropy_tb_lv2_filter = entropy_tb_lv2_filter[entropy_tb_lv2_filter['key_factor']=='1']\n",
    "    entropy_tb_lv2_filter = entropy_tb_lv2_filter[entropy_tb_lv2_filter['Failrate']>=failrate]\n",
    "    #if len(factor_types)>0:\n",
    "    if factor_types !=['All']:\n",
    "        entropy_tb_lv2_filter = entropy_tb_lv2_filter[entropy_tb_lv2_filter['Factor B'].isin(factor_types)]    \n",
    "    with output_factor_lv2:\n",
    "        print(f'Case 0: ATE R5209壓件')\n",
    "        print(f'selected factor:{dropdown_factor.value}')\n",
    "        display(entropy_tb_lv2_filter)     \n",
    "    \n",
    "\n",
    "        \n",
    "def get_dashboard():\n",
    "    item_layout = widgets.Layout(margin='0 0 50px 0')\n",
    "\n",
    "    #lv2 factor dropdown\n",
    "    options = list(entropy_tb_lv1['factor'].values)\n",
    "    options = [f'{idx}__{op}'for idx, op in enumerate(options)]\n",
    "    dropdown_factor = widgets.Dropdown(options = options, description='LV2 Factor', value=None)\n",
    "    dropdown_factor.observe(dropdown_factor_eventhandler, names='value')\n",
    "\n",
    "    factortype_options = list(entropy_tb_lv1['Factor B'].unique())\n",
    "    factortype_options.insert(0,'All')\n",
    "    factortype_selects = widgets.SelectMultiple(options=factortype_options, description='Factor Types', value=['All'])\n",
    "    factortype_selects.observe(select_factortype_eventhandler, names='value')\n",
    "\n",
    "    #filter\n",
    "    floatSilder_faterate = widgets.FloatSlider(min=0, max=1, step=0.05, description='fail rate:',value=0)\n",
    "    floatSilder_faterate.observe(floatSilder_faterate_eventhandler, names='value')\n",
    "    checkbox_keyfactor = widgets.Checkbox(description='key_factor:',value=False)\n",
    "    checkbox_keyfactor.observe(checkbox_keyfactor_eventhandler, names='value')\n",
    "\n",
    "\n",
    "    input_widgets = widgets.HBox([dropdown_factor, factortype_selects, checkbox_keyfactor, floatSilder_faterate])\n",
    "\n",
    "\n",
    "    #output\n",
    "    output_factor_lv1 = widgets.Output()\n",
    "    output_factor_lv2 = widgets.Output()\n",
    "    tab = widgets.Tab([output_factor_lv1, output_factor_lv2], layout=item_layout)\n",
    "    tab.set_title(0, 'main')\n",
    "    tab.set_title(1, 'Lv2 Table')\n",
    "\n",
    "    with output_factor_lv1:\n",
    "        print(f'Case 0: ATE R5209壓件')\n",
    "        display(entropy_tb_lv1)\n",
    "\n",
    "    dashboard = widgets.VBox([input_widgets, tab])\n",
    "    \n",
    "    return dashboard\n",
    "\n",
    "    \n",
    "    "
   ]
  },
  {
   "cell_type": "markdown",
   "metadata": {},
   "source": [
    "****"
   ]
  },
  {
   "cell_type": "code",
   "execution_count": 10,
   "metadata": {},
   "outputs": [],
   "source": [
    "dashboard = get_dashboard()"
   ]
  },
  {
   "cell_type": "code",
   "execution_count": 11,
   "metadata": {
    "scrolled": true
   },
   "outputs": [
    {
     "data": {
      "application/vnd.jupyter.widget-view+json": {
       "model_id": "0303839ec60c413699afbf0c0e3ae8ba",
       "version_major": 2,
       "version_minor": 0
      },
      "text/plain": [
       "VBox(children=(HBox(children=(Dropdown(description='LV2 Factor', options=('0__part:MB:GROUP_NAME:PICK2', '1__p…"
      ]
     },
     "metadata": {},
     "output_type": "display_data"
    }
   ],
   "source": [
    "display(dashboard)"
   ]
  },
  {
   "cell_type": "markdown",
   "metadata": {},
   "source": [
    "***"
   ]
  },
  {
   "cell_type": "markdown",
   "metadata": {},
   "source": []
  }
 ],
 "metadata": {
  "kernelspec": {
   "display_name": "Python 3",
   "language": "python",
   "name": "python3"
  },
  "language_info": {
   "codemirror_mode": {
    "name": "ipython",
    "version": 3
   },
   "file_extension": ".py",
   "mimetype": "text/x-python",
   "name": "python",
   "nbconvert_exporter": "python",
   "pygments_lexer": "ipython3",
   "version": "3.6.9"
  }
 },
 "nbformat": 4,
 "nbformat_minor": 2
}
