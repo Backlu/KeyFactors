{
 "cells": [
  {
   "cell_type": "markdown",
   "metadata": {},
   "source": [
    "# Key Factor Ranking\n",
    "Copyright © 2020 AA"
   ]
  },
  {
   "cell_type": "code",
   "execution_count": 6,
   "metadata": {},
   "outputs": [
    {
     "name": "stdout",
     "output_type": "stream",
     "text": [
      "The autoreload extension is already loaded. To reload it, use:\n",
      "  %reload_ext autoreload\n"
     ]
    }
   ],
   "source": [
    "%load_ext autoreload\n",
    "%autoreload 2\n",
    "\n",
    "import os, warnings\n",
    "warnings.filterwarnings('ignore')\n",
    "warnings.simplefilter(action='ignore', category=FutureWarning)\n",
    "import numpy as np\n",
    "import pandas as pd\n",
    "import matplotlib.pyplot as plt\n",
    "from keyfactordiag.diag import Diag\n",
    "\n",
    "pd.set_option('display.max_rows', 1000)\n",
    "pd.set_option('display.max_columns', 100)\n",
    "pd.set_option(\"display.max_colwidth\", 100)\n"
   ]
  },
  {
   "cell_type": "markdown",
   "metadata": {},
   "source": [
    "### INIT"
   ]
  },
  {
   "cell_type": "code",
   "execution_count": 9,
   "metadata": {},
   "outputs": [
    {
     "name": "stdout",
     "output_type": "stream",
     "text": [
      "keyparts: ['HDD' 'MB']\n"
     ]
    }
   ],
   "source": [
    "#init\n",
    "diag = Diag(errorcode='4I31', modelname='DGE00')\n",
    "#load Data\n",
    "diag.load_mesdata()\n"
   ]
  },
  {
   "cell_type": "markdown",
   "metadata": {},
   "source": [
    "### Report"
   ]
  },
  {
   "cell_type": "code",
   "execution_count": 10,
   "metadata": {},
   "outputs": [
    {
     "name": "stdout",
     "output_type": "stream",
     "text": [
      "12 features with greater than 0.30 missing values.\n",
      "\n",
      "79 features with a single unique value.\n",
      "\n",
      "Removed 84 features.\n",
      "Total of 84 features identified for removal\n",
      "['part:MB:venderid', 'part:CAMERA:VERSION', 'part:SPEAKER:GROUP_NAME', 'part:LCD PANEL:GROUP_NAME', 'part:DC IN CABLE:GROUP_NAME', 'part:SPEAKER:VERSION', 'part:LCD COVER:VERSION', 'part:BATTERY CABLE:VERSION', 'part:LOWER:GROUP_NAME', 'smtstation:AOIA:STATION_NAME', 'fatpstation:TP-2:EMP_NO', 'smtstation:ATE:ERROR_FLAG', 'part:ANTENNA:VERSION', 'part:AUDIO/B:GROUP_NAME', 'part:LCD BEZEL:venderid', 'fatpstation:STRU:STATION_NAME', 'part:LCD COVER:GROUP_NAME', 'part:ANTENNA:GROUP_NAME', 'part:LCD BEZEL:KEY_PART_NO', 'part:DC IN CABLE:KEY_PART_NO', 'part:THERMAL:GROUP_NAME', 'part:TOUCH PAD:VERSION', 'part:UPPER:venderid', 'part:POWER CODE:VERSION', 'part:BOTTOM/B:venderid', 'part:TOUCH PAD:venderid', 'smtstation:AOIB:ERROR_FLAG', 'part:FFC:venderid', 'part:FFC:VERSION', 'part:LOWER:VERSION', 'part:AUDIO/B:VERSION', 'part:EDP CABLE:GROUP_NAME', 'smtstation:F/T:ERROR_FLAG', 'part:AC ADAP:GROUP_NAME', 'part:TOUCH PAD:GROUP_NAME', 'part:AUDIO/B:venderid', 'part:DC IN CABLE:venderid', 'fatpstation:TP-2:LINE_NAME', 'part:LCD COVER:KEY_PART_NO', 'part:KB:GROUP_NAME', 'part:LCD BEZEL:GROUP_NAME', 'part:TOUCH PAD:KEY_PART_NO', 'smtstation:AOIA:ERROR_FLAG', 'part:FFC:KEY_PART_NO', 'part:BOTTOM/B:VERSION', 'part:THERMAL:KEY_PART_NO', 'part:MB:VERSION', 'part:HDD:GROUP_NAME', 'part:THERMAL:venderid', 'part:CAMERA:KEY_PART_NO', 'smtstation:AOIB:STATION_NAME', 'part:EDP CABLE:KEY_PART_NO', 'part:CAMERA:GROUP_NAME', 'part:LCD PANEL:VERSION', 'part:SPEAKER:KEY_PART_NO', 'smtstation:AOIB:EMP_NO', 'part:EDP CABLE:venderid', 'fatpstation:STRU:EMP_NO', 'fatpstation:TP-2:STATION_NAME', 'part:LOWER:venderid', 'part:AUDIO/B:KEY_PART_NO', 'part:UPPER:VERSION', 'part:BOTTOM/B:KEY_PART_NO', 'part:BATTERY CABLE:KEY_PART_NO', 'part:THERMAL:VERSION', 'part:LCD PANEL:KEY_PART_NO', 'part:EDP CABLE:VERSION', 'part:UPPER:KEY_PART_NO', 'part:BOTTOM/B:GROUP_NAME', 'fatpstation:STRU:LINE_NAME', 'part:DC IN CABLE:VERSION', 'part:LOWER:KEY_PART_NO', 'part:MB:DC', 'part:DC IN CABLE:DC', 'part:FFC:GROUP_NAME', 'part:SPEAKER:venderid', 'part:UPPER:GROUP_NAME', 'fatpstation:STRU:ERROR_FLAG', 'part:LCD BEZEL:VERSION', 'part:BATT:GROUP_NAME', 'smtstation:AOIA:EMP_NO', 'fatpstation:TP-2:ERROR_FLAG', 'part:BATTERY CABLE:GROUP_NAME', 'smtstation:ATE:EMP_NO']\n",
      "Training Gradient Boosting Model\n",
      "\n",
      "Training until validation scores don't improve for 100 rounds\n",
      "Early stopping, best iteration is:\n",
      "[71]\tvalid_0's auc: 1\tvalid_0's binary_logloss: 0.0979496\n",
      "\n",
      "188 features with zero importance after one-hot encoding.\n",
      "\n",
      "There are 50 original features\n",
      "There are 227 one-hot features\n",
      "root ent: 0.9756797868933086\n"
     ]
    }
   ],
   "source": [
    "#組大表\n",
    "diag.getbigtable()\n",
    "#集中性\n",
    "diag.rankfactor()\n",
    "#output excel\n",
    "diag.output_bigtable()\n",
    "diag.output_factorranktable()"
   ]
  },
  {
   "cell_type": "markdown",
   "metadata": {},
   "source": [
    "### Test"
   ]
  },
  {
   "cell_type": "code",
   "execution_count": null,
   "metadata": {},
   "outputs": [],
   "source": [
    "print('Layer 1的報表:')\n",
    "diag.factortable['main']"
   ]
  },
  {
   "cell_type": "code",
   "execution_count": null,
   "metadata": {},
   "outputs": [],
   "source": [
    "print('Layer 2的報表:')\n",
    "for k in diag.factortable.keys():\n",
    "    if k=='main':\n",
    "        continue\n",
    "    print(k)\n",
    "    display(diag.factortable[k].head(7))"
   ]
  },
  {
   "cell_type": "markdown",
   "metadata": {},
   "source": [
    "***"
   ]
  },
  {
   "cell_type": "markdown",
   "metadata": {},
   "source": []
  }
 ],
 "metadata": {
  "kernelspec": {
   "display_name": "Python 3",
   "language": "python",
   "name": "python3"
  },
  "language_info": {
   "codemirror_mode": {
    "name": "ipython",
    "version": 3
   },
   "file_extension": ".py",
   "mimetype": "text/x-python",
   "name": "python",
   "nbconvert_exporter": "python",
   "pygments_lexer": "ipython3",
   "version": "3.7.7"
  }
 },
 "nbformat": 4,
 "nbformat_minor": 2
}
